{
 "cells": [
  {
   "cell_type": "code",
   "execution_count": 63,
   "metadata": {},
   "outputs": [],
   "source": [
    "class BSTNode():\n",
    "    def __init__(self, val = None):\n",
    "        self.left = None \n",
    "        self.right = None \n",
    "        self.val = val \n",
    "    \n",
    "    def insert(self, val):\n",
    "        \n",
    "        if not self.val:\n",
    "            self.val = val \n",
    "            return\n",
    "        \n",
    "        if self.val == val:\n",
    "            return \n",
    "        \n",
    "        if val < self.val:\n",
    "            if self.left:\n",
    "                self.left.insert(val)\n",
    "                return \n",
    "            self.left = BSTNode(val)\n",
    "            \n",
    "        if self.right:\n",
    "            self.right.insert(val)\n",
    "            return \n",
    "        self.right = BSTNode(val)\n",
    "        \n",
    "    def get_min(self):\n",
    "            current = self \n",
    "            while current.left is not None:\n",
    "                current = current.left \n",
    "            return current.val\n",
    "        \n",
    "    def get_max(self):\n",
    "        current = self \n",
    "        while current.right is not None:\n",
    "            current = current.right \n",
    "        return current.val\n",
    "    \n",
    "     \n",
    "    \n",
    "    def exists(self, val):\n",
    "        if val == self.val:\n",
    "            return True \n",
    "        \n",
    "        if val < self.val:\n",
    "            if self.left == None:\n",
    "                return False\n",
    "            return self.left.exists(val)\n",
    "        \n",
    "        if self.right == None:\n",
    "            return False \n",
    "        return self.right.exists(val)\n",
    "    \n",
    "    def exists(self, val):\n",
    "        if val == self.val:\n",
    "            return True \n",
    "        \n",
    "        if val < self.val:\n",
    "            if self.left == None:\n",
    "                return False \n",
    "            return self.left.exists(val)\n",
    "        \n",
    "        if self.right == None:\n",
    "            return False\n",
    "        return self.right.exists(val)\n",
    "    \n",
    "    def inorder(self, vals):\n",
    "        if self.left is not None:\n",
    "            self.left.inorder(vals)\n",
    "        if self.val is not None:\n",
    "            vals.append(self.val)\n",
    "        if self.right is not None:\n",
    "            self.right.inorder(vals)\n",
    "        return vals\n",
    "    \n",
    "    def postorder(self, vals):\n",
    "        if self.right is not None:\n",
    "            self.right.postorder(vals)\n",
    "        if self.val is not None:\n",
    "            vals.append(self.val)\n",
    "        if self.left is not None:\n",
    "            self.left.postorder(vals)\n",
    "        return vals \n",
    "    "
   ]
  },
  {
   "cell_type": "code",
   "execution_count": 57,
   "metadata": {},
   "outputs": [],
   "source": [
    "nums = [12, 6, 18, 19, 21, 11, 3, 5, 4, 24, 18]\n",
    "bst = BSTNode()\n",
    "for num in nums:\n",
    "    bst.insert(num)"
   ]
  },
  {
   "cell_type": "code",
   "execution_count": 58,
   "metadata": {},
   "outputs": [
    {
     "data": {
      "text/plain": [
       "24"
      ]
     },
     "execution_count": 58,
     "metadata": {},
     "output_type": "execute_result"
    }
   ],
   "source": [
    "bst.get_max()"
   ]
  },
  {
   "cell_type": "code",
   "execution_count": 59,
   "metadata": {},
   "outputs": [
    {
     "data": {
      "text/plain": [
       "3"
      ]
     },
     "execution_count": 59,
     "metadata": {},
     "output_type": "execute_result"
    }
   ],
   "source": [
    "bst.get_min()"
   ]
  },
  {
   "cell_type": "code",
   "execution_count": 60,
   "metadata": {},
   "outputs": [
    {
     "data": {
      "text/plain": [
       "[3, 4, 5, 4, 6, 3, 11, 3, 12, 6, 18, 19, 21, 24]"
      ]
     },
     "execution_count": 60,
     "metadata": {},
     "output_type": "execute_result"
    }
   ],
   "source": [
    "bst.inorder([])"
   ]
  },
  {
   "cell_type": "code",
   "execution_count": 61,
   "metadata": {},
   "outputs": [
    {
     "data": {
      "text/plain": [
       "True"
      ]
     },
     "execution_count": 61,
     "metadata": {},
     "output_type": "execute_result"
    }
   ],
   "source": [
    "bst.exists(3)"
   ]
  },
  {
   "cell_type": "code",
   "execution_count": 64,
   "metadata": {},
   "outputs": [
    {
     "data": {
      "text/plain": [
       "[24, 21, 19, 18, 6, 12, 3, 11, 3, 6, 4, 5, 4, 3]"
      ]
     },
     "execution_count": 64,
     "metadata": {},
     "output_type": "execute_result"
    }
   ],
   "source": [
    "bst.postorder([])"
   ]
  },
  {
   "cell_type": "code",
   "execution_count": null,
   "metadata": {},
   "outputs": [],
   "source": []
  }
 ],
 "metadata": {
  "kernelspec": {
   "display_name": "Python 3.10.5 ('venv': venv)",
   "language": "python",
   "name": "python3"
  },
  "language_info": {
   "codemirror_mode": {
    "name": "ipython",
    "version": 3
   },
   "file_extension": ".py",
   "mimetype": "text/x-python",
   "name": "python",
   "nbconvert_exporter": "python",
   "pygments_lexer": "ipython3",
   "version": "3.10.5"
  },
  "orig_nbformat": 4,
  "vscode": {
   "interpreter": {
    "hash": "f6b5d61940f171564e32d30ad206157c55202eb5d015d011f81b19957f702029"
   }
  }
 },
 "nbformat": 4,
 "nbformat_minor": 2
}
