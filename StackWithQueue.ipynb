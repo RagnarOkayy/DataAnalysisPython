{
 "cells": [
  {
   "cell_type": "code",
   "execution_count": 36,
   "metadata": {},
   "outputs": [],
   "source": [
    "class Node:\n",
    "    def __init__(self, data):\n",
    "        self.data = data \n",
    "        self.next = None"
   ]
  },
  {
   "cell_type": "code",
   "execution_count": 37,
   "metadata": {},
   "outputs": [],
   "source": [
    "class Queue:\n",
    "    def __init__(self):\n",
    "        self.head = None\n",
    "        self.size = 0   \n",
    "        \n",
    "    def print(self):\n",
    "        temp = self.head \n",
    "        while(temp):\n",
    "            print(temp.data)\n",
    "            temp = temp.next     \n",
    "        \n",
    "    def enq(self, val):\n",
    "        if self.head == None:\n",
    "            self.size += 1\n",
    "            self.head = Node(val)\n",
    "            return\n",
    "        \n",
    "        temp = self.head \n",
    "        while(temp.next is not None):\n",
    "            temp = temp.next \n",
    "        temp.next = Node(val)\n",
    "        self.size += 1\n",
    "        \n",
    "    def deq(self):\n",
    "        if self.head is None:\n",
    "            print(\"there is nothing to delete\")\n",
    "            return \n",
    "        \n",
    "        holder = self.head.data\n",
    "        self.head = self.head.next\n",
    "        self.size -= 1\n",
    "        return holder\n",
    "    \n",
    "    def getLength(self):\n",
    "        return self.size "
   ]
  },
  {
   "cell_type": "code",
   "execution_count": 54,
   "metadata": {},
   "outputs": [],
   "source": [
    "class Stack:\n",
    "    def __init__(self, queue1, queue2):\n",
    "        self.queue1 = queue1\n",
    "        self.queue2 = queue2\n",
    "        \n",
    "    def push(self, val):\n",
    "        self.queue1.enq(val)\n",
    "        \n",
    "    def pop(self):\n",
    "        if (self.queue1.getLength() == 0 and self.queue2.getLength() == 0):\n",
    "            print(\"There are no elements to be printet\")\n",
    "            return print(\"there\")\n",
    "        \n",
    "        while(self.queue1.getLength() != 1):\n",
    "            self.queue2.enq(self.queue1.deq())\n",
    "            \n",
    "        holder = self.queue1.deq()\n",
    "        \n",
    "        while(self.queue2.getLength() != 0):\n",
    "            self.queue1.enq(self.queue2.deq()) \n",
    "        \n",
    "        return holder\n",
    "\n",
    "        \n",
    "        "
   ]
  },
  {
   "cell_type": "code",
   "execution_count": 55,
   "metadata": {},
   "outputs": [],
   "source": [
    "queue1 = Queue()\n",
    "queue2 = Queue()\n",
    "\n",
    "stack = Stack(queue1=queue1, queue2= queue2)\n"
   ]
  },
  {
   "cell_type": "code",
   "execution_count": 56,
   "metadata": {},
   "outputs": [],
   "source": [
    "stack.push(1)"
   ]
  },
  {
   "cell_type": "code",
   "execution_count": 57,
   "metadata": {},
   "outputs": [],
   "source": [
    "stack.push(2)"
   ]
  },
  {
   "cell_type": "code",
   "execution_count": 58,
   "metadata": {},
   "outputs": [
    {
     "data": {
      "text/plain": [
       "2"
      ]
     },
     "execution_count": 58,
     "metadata": {},
     "output_type": "execute_result"
    }
   ],
   "source": [
    "stack.pop()"
   ]
  },
  {
   "cell_type": "code",
   "execution_count": null,
   "metadata": {},
   "outputs": [],
   "source": []
  }
 ],
 "metadata": {
  "kernelspec": {
   "display_name": "Python 3.10.5 ('venv': venv)",
   "language": "python",
   "name": "python3"
  },
  "language_info": {
   "codemirror_mode": {
    "name": "ipython",
    "version": 3
   },
   "file_extension": ".py",
   "mimetype": "text/x-python",
   "name": "python",
   "nbconvert_exporter": "python",
   "pygments_lexer": "ipython3",
   "version": "3.10.5"
  },
  "orig_nbformat": 4,
  "vscode": {
   "interpreter": {
    "hash": "f6b5d61940f171564e32d30ad206157c55202eb5d015d011f81b19957f702029"
   }
  }
 },
 "nbformat": 4,
 "nbformat_minor": 2
}
