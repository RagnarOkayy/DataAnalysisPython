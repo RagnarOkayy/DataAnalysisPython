{
 "cells": [
  {
   "cell_type": "code",
   "execution_count": 159,
   "metadata": {},
   "outputs": [],
   "source": [
    "class Node:\n",
    "    def __init__(self, data = None):\n",
    "        self.data = data\n",
    "        self.next = None "
   ]
  },
  {
   "cell_type": "code",
   "execution_count": 160,
   "metadata": {},
   "outputs": [],
   "source": [
    "class Stack:\n",
    "    def __init__(self):\n",
    "        self.head = None \n",
    "        self.length = 0\n",
    "        \n",
    "    def push(self, val):\n",
    "        \n",
    "        self.length += 1\n",
    "        \n",
    "        if self.head is None:\n",
    "            self.head = Node(val)\n",
    "            return \n",
    "        \n",
    "        temp = self.head\n",
    "        \n",
    "        while(temp.next is not None):\n",
    "            temp = temp.next\n",
    "            \n",
    "        temp.next = Node(val)\n",
    "        \n",
    "    def pop(self):\n",
    "        \n",
    "        if self.head is None:\n",
    "            return\n",
    "        \n",
    "        if self.head.next is None:\n",
    "            self.length -= 1\n",
    "            holder = self.head.data\n",
    "            self.head = None \n",
    "            return holder\n",
    "        \n",
    "        temp = self.head \n",
    "        while(temp.next.next is not None):\n",
    "            temp = temp.next\n",
    "        holder = temp.next.data\n",
    "        temp.next = None\n",
    "        self.length -= 1\n",
    "        return holder\n",
    "        \n",
    "    def print(self):\n",
    "        temp = self.head\n",
    "        while(temp is not None):\n",
    "            print(temp.data)\n",
    "            temp = temp.next\n",
    "            \n",
    "    def getLength(self):\n",
    "        return self.length"
   ]
  },
  {
   "cell_type": "code",
   "execution_count": 186,
   "metadata": {},
   "outputs": [],
   "source": [
    "class Queue:\n",
    "    def __init__(self, stack1, stack2):\n",
    "        \n",
    "        self.stack1 = stack1 \n",
    "        self.stack2 = stack2\n",
    "        \n",
    "    def enqueue(self, val):\n",
    "        self.stack1.push(val)\n",
    "        \n",
    "    def dequeue(self):\n",
    "        \n",
    "        if self.stack1.getLength() == 0 and self.stack2.getLength() == 0:\n",
    "            return print(\"Error the queues are empty\")\n",
    "        \n",
    "        if self.stack2.getLength() == 0:\n",
    "            while (self.stack1.getLength() != 0):\n",
    "                self.stack2.push(self.stack1.pop())\n",
    "                \n",
    "        return self.stack2.pop()"
   ]
  },
  {
   "cell_type": "code",
   "execution_count": 187,
   "metadata": {},
   "outputs": [],
   "source": [
    "stack1 = Stack()"
   ]
  },
  {
   "cell_type": "code",
   "execution_count": 188,
   "metadata": {},
   "outputs": [],
   "source": [
    "stack2 = Stack()"
   ]
  },
  {
   "cell_type": "code",
   "execution_count": 189,
   "metadata": {},
   "outputs": [],
   "source": [
    "queue = Queue(stack1=stack1, stack2= stack2)"
   ]
  },
  {
   "cell_type": "code",
   "execution_count": 190,
   "metadata": {},
   "outputs": [],
   "source": [
    "queue.enqueue(1)"
   ]
  },
  {
   "cell_type": "code",
   "execution_count": 191,
   "metadata": {},
   "outputs": [],
   "source": [
    "queue.enqueue(2)"
   ]
  },
  {
   "cell_type": "code",
   "execution_count": 192,
   "metadata": {},
   "outputs": [],
   "source": [
    "queue.enqueue(3)"
   ]
  },
  {
   "cell_type": "code",
   "execution_count": 193,
   "metadata": {},
   "outputs": [
    {
     "data": {
      "text/plain": [
       "1"
      ]
     },
     "execution_count": 193,
     "metadata": {},
     "output_type": "execute_result"
    }
   ],
   "source": [
    "queue.dequeue()"
   ]
  },
  {
   "cell_type": "code",
   "execution_count": 195,
   "metadata": {},
   "outputs": [
    {
     "data": {
      "text/plain": [
       "2"
      ]
     },
     "execution_count": 195,
     "metadata": {},
     "output_type": "execute_result"
    }
   ],
   "source": [
    "queue.dequeue()"
   ]
  },
  {
   "cell_type": "code",
   "execution_count": 196,
   "metadata": {},
   "outputs": [
    {
     "data": {
      "text/plain": [
       "3"
      ]
     },
     "execution_count": 196,
     "metadata": {},
     "output_type": "execute_result"
    }
   ],
   "source": [
    "queue.dequeue()"
   ]
  },
  {
   "cell_type": "code",
   "execution_count": 197,
   "metadata": {},
   "outputs": [
    {
     "name": "stdout",
     "output_type": "stream",
     "text": [
      "Error the queues are empty\n"
     ]
    }
   ],
   "source": [
    "queue.dequeue()"
   ]
  },
  {
   "cell_type": "code",
   "execution_count": null,
   "metadata": {},
   "outputs": [],
   "source": []
  }
 ],
 "metadata": {
  "kernelspec": {
   "display_name": "Python 3.10.5 ('venv': venv)",
   "language": "python",
   "name": "python3"
  },
  "language_info": {
   "codemirror_mode": {
    "name": "ipython",
    "version": 3
   },
   "file_extension": ".py",
   "mimetype": "text/x-python",
   "name": "python",
   "nbconvert_exporter": "python",
   "pygments_lexer": "ipython3",
   "version": "3.10.5"
  },
  "orig_nbformat": 4,
  "vscode": {
   "interpreter": {
    "hash": "f6b5d61940f171564e32d30ad206157c55202eb5d015d011f81b19957f702029"
   }
  }
 },
 "nbformat": 4,
 "nbformat_minor": 2
}
