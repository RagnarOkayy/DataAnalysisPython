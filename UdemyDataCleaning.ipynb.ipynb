{
 "cells": [
  {
   "cell_type": "markdown",
   "metadata": {},
   "source": [
    "# Feature Engineering <br>\n",
    "Using domaing knowledge to extract features from raw data via data mining techniques, extraing data and features from a field experd or our knowldege <hr>\n",
    "* Extract Info - in general most algos used floating point numbers or int so we need to extact info from like a date time stamp (1990-12-01) into Year, Month, Weekday etc\n",
    "* Combine Info - like in linear regression, we can also combine existing features to create new ones (nightlife - both a weeknd and evening feature)\n",
    "* Transforming Information - very comon for strings since most apps cant accept string data like \"red\", often categorical data is represented as string\n",
    "# 2 Approaches\n",
    "* Integers Encoding - Directly convert categories into ints like 1, 2, 3...N <br>\n",
    "Very easy to do and Does not increase the number of features but implies ordered rel between the categories\n",
    "\n",
    "* One Hot Encoding - Convert each categoru into individual features, either 0 or 1 - create a new feature for each category possible, CONS: Multicolinearity or Features can duplicate\n",
    "If we have 2 values like up down we know that 1 is up and 0 is down but the columns could multiply (dummy variable trap) <br>\n",
    "PROS : Doesnt imply an order \n"
   ]
  },
  {
   "cell_type": "code",
   "execution_count": 29,
   "metadata": {},
   "outputs": [],
   "source": [
    "import numpy as np\n",
    "import pandas as pd\n",
    "import matplotlib.pyplot as plt\n",
    "import seaborn as sns"
   ]
  },
  {
   "cell_type": "code",
   "execution_count": 15,
   "metadata": {},
   "outputs": [],
   "source": [
    "# Choose a mean,standard deviation, and number of samples\n",
    "\n",
    "def create_ages(mu=50,sigma=13,num_samples=100,seed=42):\n",
    "\n",
    "    # Set a random seed in the same cell as the random call to get the same values as us\n",
    "    # We set seed to 42 (42 is an arbitrary choice from Hitchhiker's Guide to the Galaxy)\n",
    "    np.random.seed(seed)\n",
    "\n",
    "    sample_ages = np.random.normal(loc=mu,scale=sigma,size=num_samples)\n",
    "    sample_ages = np.round(sample_ages,decimals=0)\n",
    "    \n",
    "    return sample_ages"
   ]
  },
  {
   "cell_type": "code",
   "execution_count": 16,
   "metadata": {},
   "outputs": [],
   "source": [
    "sample = create_ages()\n"
   ]
  },
  {
   "cell_type": "code",
   "execution_count": 23,
   "metadata": {},
   "outputs": [
    {
     "data": {
      "text/plain": [
       "array([56., 48., 58., 70., 47., 47., 71., 60., 44., 57., 44., 44., 53.,\n",
       "       25., 28., 43., 37., 54., 38., 32., 69., 47., 51., 31., 43., 51.,\n",
       "       35., 55., 42., 46., 42., 74., 50., 36., 61., 34., 53., 25., 33.,\n",
       "       53., 60., 52., 48., 46., 31., 41., 44., 64., 54., 27., 54., 45.,\n",
       "       41., 58., 63., 62., 39., 46., 54., 63., 44., 48., 36., 34., 61.,\n",
       "       68., 49., 63., 55., 42., 55., 70., 50., 70., 16., 61., 51., 46.,\n",
       "       51., 24., 47., 55., 69., 43., 39., 43., 62., 54., 43., 57., 51.,\n",
       "       63., 41., 46., 45., 31., 54., 53., 50., 47.])"
      ]
     },
     "execution_count": 23,
     "metadata": {},
     "output_type": "execute_result"
    }
   ],
   "source": [
    "sample"
   ]
  },
  {
   "cell_type": "code",
   "execution_count": 30,
   "metadata": {},
   "outputs": [
    {
     "ename": "AttributeError",
     "evalue": "'NoneType' object has no attribute 'canvas'",
     "output_type": "error",
     "traceback": [
      "\u001b[0;31m---------------------------------------------------------------------------\u001b[0m",
      "\u001b[0;31mAttributeError\u001b[0m                            Traceback (most recent call last)",
      "\u001b[1;32m/home/zaimi/Desktop/python/UdemyDataCleaning.ipynb.ipynb Cell 6\u001b[0m in \u001b[0;36m<cell line: 1>\u001b[0;34m()\u001b[0m\n\u001b[0;32m----> <a href='vscode-notebook-cell:/home/zaimi/Desktop/python/UdemyDataCleaning.ipynb.ipynb#W5sZmlsZQ%3D%3D?line=0'>1</a>\u001b[0m sns\u001b[39m.\u001b[39;49mdisplot(data\u001b[39m=\u001b[39;49msample)\n",
      "File \u001b[0;32m~/Desktop/python/venv/lib/python3.10/site-packages/seaborn/distributions.py:2229\u001b[0m, in \u001b[0;36mdisplot\u001b[0;34m(data, x, y, hue, row, col, weights, kind, rug, rug_kws, log_scale, legend, palette, hue_order, hue_norm, color, col_wrap, row_order, col_order, height, aspect, facet_kws, **kwargs)\u001b[0m\n\u001b[1;32m   2226\u001b[0m \u001b[39mif\u001b[39;00m facet_kws \u001b[39mis\u001b[39;00m \u001b[39mNone\u001b[39;00m:\n\u001b[1;32m   2227\u001b[0m     facet_kws \u001b[39m=\u001b[39m {}\n\u001b[0;32m-> 2229\u001b[0m g \u001b[39m=\u001b[39m FacetGrid(\n\u001b[1;32m   2230\u001b[0m     data\u001b[39m=\u001b[39;49mgrid_data, row\u001b[39m=\u001b[39;49mrow_name, col\u001b[39m=\u001b[39;49mcol_name,\n\u001b[1;32m   2231\u001b[0m     col_wrap\u001b[39m=\u001b[39;49mcol_wrap, row_order\u001b[39m=\u001b[39;49mrow_order,\n\u001b[1;32m   2232\u001b[0m     col_order\u001b[39m=\u001b[39;49mcol_order, height\u001b[39m=\u001b[39;49mheight,\n\u001b[1;32m   2233\u001b[0m     aspect\u001b[39m=\u001b[39;49maspect,\n\u001b[1;32m   2234\u001b[0m     \u001b[39m*\u001b[39;49m\u001b[39m*\u001b[39;49mfacet_kws,\n\u001b[1;32m   2235\u001b[0m )\n\u001b[1;32m   2237\u001b[0m \u001b[39m# Now attach the axes object to the plotter object\u001b[39;00m\n\u001b[1;32m   2238\u001b[0m \u001b[39mif\u001b[39;00m kind \u001b[39m==\u001b[39m \u001b[39m\"\u001b[39m\u001b[39mkde\u001b[39m\u001b[39m\"\u001b[39m:\n",
      "File \u001b[0;32m~/Desktop/python/venv/lib/python3.10/site-packages/seaborn/_decorators.py:46\u001b[0m, in \u001b[0;36m_deprecate_positional_args.<locals>.inner_f\u001b[0;34m(*args, **kwargs)\u001b[0m\n\u001b[1;32m     36\u001b[0m     warnings\u001b[39m.\u001b[39mwarn(\n\u001b[1;32m     37\u001b[0m         \u001b[39m\"\u001b[39m\u001b[39mPass the following variable\u001b[39m\u001b[39m{}\u001b[39;00m\u001b[39m as \u001b[39m\u001b[39m{}\u001b[39;00m\u001b[39mkeyword arg\u001b[39m\u001b[39m{}\u001b[39;00m\u001b[39m: \u001b[39m\u001b[39m{}\u001b[39;00m\u001b[39m. \u001b[39m\u001b[39m\"\u001b[39m\n\u001b[1;32m     38\u001b[0m         \u001b[39m\"\u001b[39m\u001b[39mFrom version 0.12, the only valid positional argument \u001b[39m\u001b[39m\"\u001b[39m\n\u001b[0;32m   (...)\u001b[0m\n\u001b[1;32m     43\u001b[0m         \u001b[39mFutureWarning\u001b[39;00m\n\u001b[1;32m     44\u001b[0m     )\n\u001b[1;32m     45\u001b[0m kwargs\u001b[39m.\u001b[39mupdate({k: arg \u001b[39mfor\u001b[39;00m k, arg \u001b[39min\u001b[39;00m \u001b[39mzip\u001b[39m(sig\u001b[39m.\u001b[39mparameters, args)})\n\u001b[0;32m---> 46\u001b[0m \u001b[39mreturn\u001b[39;00m f(\u001b[39m*\u001b[39;49m\u001b[39m*\u001b[39;49mkwargs)\n",
      "File \u001b[0;32m~/Desktop/python/venv/lib/python3.10/site-packages/seaborn/axisgrid.py:409\u001b[0m, in \u001b[0;36mFacetGrid.__init__\u001b[0;34m(self, data, row, col, hue, col_wrap, sharex, sharey, height, aspect, palette, row_order, col_order, hue_order, hue_kws, dropna, legend_out, despine, margin_titles, xlim, ylim, subplot_kws, gridspec_kws, size)\u001b[0m\n\u001b[1;32m    405\u001b[0m \u001b[39m# --- Initialize the subplot grid\u001b[39;00m\n\u001b[1;32m    406\u001b[0m \n\u001b[1;32m    407\u001b[0m \u001b[39m# Disable autolayout so legend_out works properly\u001b[39;00m\n\u001b[1;32m    408\u001b[0m \u001b[39mwith\u001b[39;00m mpl\u001b[39m.\u001b[39mrc_context({\u001b[39m\"\u001b[39m\u001b[39mfigure.autolayout\u001b[39m\u001b[39m\"\u001b[39m: \u001b[39mFalse\u001b[39;00m}):\n\u001b[0;32m--> 409\u001b[0m     fig \u001b[39m=\u001b[39m plt\u001b[39m.\u001b[39;49mfigure(figsize\u001b[39m=\u001b[39;49mfigsize)\n\u001b[1;32m    411\u001b[0m \u001b[39mif\u001b[39;00m col_wrap \u001b[39mis\u001b[39;00m \u001b[39mNone\u001b[39;00m:\n\u001b[1;32m    413\u001b[0m     kwargs \u001b[39m=\u001b[39m \u001b[39mdict\u001b[39m(squeeze\u001b[39m=\u001b[39m\u001b[39mFalse\u001b[39;00m,\n\u001b[1;32m    414\u001b[0m                   sharex\u001b[39m=\u001b[39msharex, sharey\u001b[39m=\u001b[39msharey,\n\u001b[1;32m    415\u001b[0m                   subplot_kw\u001b[39m=\u001b[39msubplot_kws,\n\u001b[1;32m    416\u001b[0m                   gridspec_kw\u001b[39m=\u001b[39mgridspec_kws)\n",
      "File \u001b[0;32m~/Desktop/python/venv/lib/python3.10/site-packages/matplotlib/pyplot.py:810\u001b[0m, in \u001b[0;36mfigure\u001b[0;34m(num, figsize, dpi, facecolor, edgecolor, frameon, FigureClass, clear, **kwargs)\u001b[0m\n\u001b[1;32m    798\u001b[0m     _api\u001b[39m.\u001b[39mwarn_external(\n\u001b[1;32m    799\u001b[0m         \u001b[39mf\u001b[39m\u001b[39m\"\u001b[39m\u001b[39mMore than \u001b[39m\u001b[39m{\u001b[39;00mmax_open_warning\u001b[39m}\u001b[39;00m\u001b[39m figures have been opened. \u001b[39m\u001b[39m\"\u001b[39m\n\u001b[1;32m    800\u001b[0m         \u001b[39mf\u001b[39m\u001b[39m\"\u001b[39m\u001b[39mFigures created through the pyplot interface \u001b[39m\u001b[39m\"\u001b[39m\n\u001b[0;32m   (...)\u001b[0m\n\u001b[1;32m    803\u001b[0m         \u001b[39mf\u001b[39m\u001b[39m\"\u001b[39m\u001b[39mwarning, see the rcParam `figure.max_open_warning`).\u001b[39m\u001b[39m\"\u001b[39m,\n\u001b[1;32m    804\u001b[0m         \u001b[39mRuntimeWarning\u001b[39;00m)\n\u001b[1;32m    806\u001b[0m manager \u001b[39m=\u001b[39m new_figure_manager(\n\u001b[1;32m    807\u001b[0m     num, figsize\u001b[39m=\u001b[39mfigsize, dpi\u001b[39m=\u001b[39mdpi,\n\u001b[1;32m    808\u001b[0m     facecolor\u001b[39m=\u001b[39mfacecolor, edgecolor\u001b[39m=\u001b[39medgecolor, frameon\u001b[39m=\u001b[39mframeon,\n\u001b[1;32m    809\u001b[0m     FigureClass\u001b[39m=\u001b[39mFigureClass, \u001b[39m*\u001b[39m\u001b[39m*\u001b[39mkwargs)\n\u001b[0;32m--> 810\u001b[0m fig \u001b[39m=\u001b[39m manager\u001b[39m.\u001b[39;49mcanvas\u001b[39m.\u001b[39mfigure\n\u001b[1;32m    811\u001b[0m \u001b[39mif\u001b[39;00m fig_label:\n\u001b[1;32m    812\u001b[0m     fig\u001b[39m.\u001b[39mset_label(fig_label)\n",
      "\u001b[0;31mAttributeError\u001b[0m: 'NoneType' object has no attribute 'canvas'"
     ]
    }
   ],
   "source": [
    "sns.displot(data=sample)"
   ]
  },
  {
   "cell_type": "code",
   "execution_count": null,
   "metadata": {},
   "outputs": [],
   "source": []
  },
  {
   "cell_type": "code",
   "execution_count": null,
   "metadata": {},
   "outputs": [],
   "source": []
  }
 ],
 "metadata": {
  "kernelspec": {
   "display_name": "Python 3.10.4 ('venv': venv)",
   "language": "python",
   "name": "python3"
  },
  "language_info": {
   "codemirror_mode": {
    "name": "ipython",
    "version": 3
   },
   "file_extension": ".py",
   "mimetype": "text/x-python",
   "name": "python",
   "nbconvert_exporter": "python",
   "pygments_lexer": "ipython3",
   "version": "3.10.4"
  },
  "orig_nbformat": 4,
  "vscode": {
   "interpreter": {
    "hash": "32ca793da4637891ff069fd6da1fd5824c841ea219129a7552ee784f1d602120"
   }
  }
 },
 "nbformat": 4,
 "nbformat_minor": 2
}
