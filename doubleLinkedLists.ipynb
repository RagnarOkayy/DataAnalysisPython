{
 "cells": [
  {
   "cell_type": "code",
   "execution_count": 13,
   "metadata": {},
   "outputs": [],
   "source": [
    "class Node:\n",
    "    def __init__(self, next = None, prev = None, data = None):\n",
    "        self.next = next \n",
    "        self.prev = prev \n",
    "        \n",
    "        self.data = data         "
   ]
  },
  {
   "cell_type": "code",
   "execution_count": 14,
   "metadata": {},
   "outputs": [],
   "source": [
    "class LinkedList:\n",
    "    def __init__(self):\n",
    "        self.head = None\n",
    "    \n",
    "    def printFunc(self):\n",
    "        temp = self.head\n",
    "        while(temp):\n",
    "            print(temp.data)\n",
    "            temp = temp.next\n",
    "            \n",
    "    def push(self, new_data):\n",
    "        new_node = Node(data=new_data)\n",
    "        \n",
    "        new_node.next = self.head\n",
    "        new_node.prev = None\n",
    "        \n",
    "        if (self.head is not None):\n",
    "            self.head.prev = new_node\n",
    "        \n",
    "        self.head = new_node\n",
    "        \n",
    "    def append(self, new_data):\n",
    "        new_node = Node(data= new_data)       \n",
    "        temp = self.head\n",
    "        \n",
    "        if self.head is None:\n",
    "            self.head = new_node\n",
    "            return \n",
    "        \n",
    "        \n",
    "        while(temp.next is not None):            \n",
    "            temp = temp.next \n",
    "        \n",
    "        temp.next = new_node\n",
    "        new_node.prev = temp\n",
    "        \n",
    "    def insertPrev(self, prev_node, new_data):\n",
    "        \n",
    "        if prev_node is None:\n",
    "            print(\"this node does not exist\")\n",
    "            return \n",
    "        \n",
    "        new_node = Node(data= new_data)\n",
    "        \n",
    "        new_node.prev = prev_node\n",
    "        new_node.next = prev_node.next\n",
    "        prev_node.next = new_node \n",
    "        \n",
    "    def insertNext(self, next_node, new_data):\n",
    "        \n",
    "        if next_node is None:\n",
    "            print(\"this node does not exist\")\n",
    "            return \n",
    "    \n",
    "        new_node = Node(data= new_data)\n",
    "        \n",
    "        new_node.next = next_node\n",
    "        new_node.prev = next_node.prev\n",
    "        next_node.prev = new_node\n",
    "        \n",
    "    def reverseList(self):\n",
    "        \n",
    "        temp1 = self.head\n",
    "        temp2 = self.head.next \n",
    "        \n",
    "        temp1.prev = temp2 \n",
    "        temp1.next = None \n",
    "        \n",
    "        temp2.prev = temp2.next\n",
    "        temp2.next = temp1 \n",
    "        \n",
    "        temp1 = temp2.prev\n",
    "        \n",
    "        while(temp1 is not None):\n",
    "            \n",
    "           \n",
    "            temp2 = temp1.next \n",
    "            \n",
    "            temp1.next = temp1.prev\n",
    "            temp1.prev = temp2 \n",
    "             \n",
    "            \n",
    "            temp2.prev = temp2.next\n",
    "            temp2.next = temp1 \n",
    "        \n",
    "            \n",
    "            \n",
    "        "
   ]
  },
  {
   "cell_type": "code",
   "execution_count": 15,
   "metadata": {},
   "outputs": [],
   "source": [
    "doubleList = LinkedList()"
   ]
  },
  {
   "cell_type": "code",
   "execution_count": 16,
   "metadata": {},
   "outputs": [],
   "source": [
    "doubleList.head = Node(data=1)"
   ]
  },
  {
   "cell_type": "code",
   "execution_count": 17,
   "metadata": {},
   "outputs": [],
   "source": [
    "second = Node(data=2)\n",
    "doubleList.head.next = second \n",
    "second.prev = doubleList.head"
   ]
  },
  {
   "cell_type": "code",
   "execution_count": 18,
   "metadata": {},
   "outputs": [],
   "source": [
    "third = Node(data=3)\n",
    "second.next = third\n",
    "third.prev = second "
   ]
  },
  {
   "cell_type": "code",
   "execution_count": 19,
   "metadata": {},
   "outputs": [
    {
     "name": "stdout",
     "output_type": "stream",
     "text": [
      "1\n",
      "2\n",
      "3\n"
     ]
    }
   ],
   "source": [
    "doubleList.printFunc()"
   ]
  },
  {
   "cell_type": "code",
   "execution_count": 20,
   "metadata": {},
   "outputs": [
    {
     "name": "stdout",
     "output_type": "stream",
     "text": [
      "0\n",
      "1\n",
      "2\n",
      "3\n"
     ]
    }
   ],
   "source": [
    "doubleList.push(new_data=0)\n",
    "doubleList.printFunc()"
   ]
  },
  {
   "cell_type": "code",
   "execution_count": 21,
   "metadata": {},
   "outputs": [
    {
     "name": "stdout",
     "output_type": "stream",
     "text": [
      "0\n",
      "1\n",
      "2\n",
      "3\n",
      "4\n"
     ]
    }
   ],
   "source": [
    "doubleList.append(new_data=4)\n",
    "doubleList.printFunc()"
   ]
  },
  {
   "cell_type": "code",
   "execution_count": 22,
   "metadata": {},
   "outputs": [
    {
     "name": "stdout",
     "output_type": "stream",
     "text": [
      "0\n",
      "1\n",
      "2\n",
      "4\n",
      "3\n",
      "4\n"
     ]
    }
   ],
   "source": [
    "doubleList.insertPrev(prev_node=second, new_data=4)\n",
    "doubleList.printFunc()"
   ]
  },
  {
   "cell_type": "code",
   "execution_count": 23,
   "metadata": {},
   "outputs": [
    {
     "name": "stdout",
     "output_type": "stream",
     "text": [
      "0\n",
      "1\n",
      "2\n",
      "10\n",
      "4\n",
      "3\n",
      "4\n"
     ]
    }
   ],
   "source": [
    "doubleList.insertPrev(prev_node=second, new_data=10)\n",
    "doubleList.printFunc()"
   ]
  },
  {
   "cell_type": "code",
   "execution_count": 24,
   "metadata": {},
   "outputs": [
    {
     "ename": "KeyboardInterrupt",
     "evalue": "",
     "output_type": "error",
     "traceback": [
      "\u001b[1;31m---------------------------------------------------------------------------\u001b[0m",
      "\u001b[1;31mKeyboardInterrupt\u001b[0m                         Traceback (most recent call last)",
      "\u001b[1;32mc:\\Users\\1\\Desktop\\DataAnalysisPython\\doubleLinkedLists.ipynb Cell 12\u001b[0m in \u001b[0;36m<cell line: 1>\u001b[1;34m()\u001b[0m\n\u001b[1;32m----> <a href='vscode-notebook-cell:/c%3A/Users/1/Desktop/DataAnalysisPython/doubleLinkedLists.ipynb#X14sZmlsZQ%3D%3D?line=0'>1</a>\u001b[0m doubleList\u001b[39m.\u001b[39;49mreverseList()\n\u001b[0;32m      <a href='vscode-notebook-cell:/c%3A/Users/1/Desktop/DataAnalysisPython/doubleLinkedLists.ipynb#X14sZmlsZQ%3D%3D?line=1'>2</a>\u001b[0m doubleList\u001b[39m.\u001b[39mprintFunc()\n",
      "\u001b[1;32mc:\\Users\\1\\Desktop\\DataAnalysisPython\\doubleLinkedLists.ipynb Cell 12\u001b[0m in \u001b[0;36mLinkedList.reverseList\u001b[1;34m(self)\u001b[0m\n\u001b[0;32m     <a href='vscode-notebook-cell:/c%3A/Users/1/Desktop/DataAnalysisPython/doubleLinkedLists.ipynb#X14sZmlsZQ%3D%3D?line=69'>70</a>\u001b[0m temp2\u001b[39m.\u001b[39mnext \u001b[39m=\u001b[39m temp1 \n\u001b[0;32m     <a href='vscode-notebook-cell:/c%3A/Users/1/Desktop/DataAnalysisPython/doubleLinkedLists.ipynb#X14sZmlsZQ%3D%3D?line=71'>72</a>\u001b[0m temp1 \u001b[39m=\u001b[39m temp2\u001b[39m.\u001b[39mprev\n\u001b[1;32m---> <a href='vscode-notebook-cell:/c%3A/Users/1/Desktop/DataAnalysisPython/doubleLinkedLists.ipynb#X14sZmlsZQ%3D%3D?line=73'>74</a>\u001b[0m \u001b[39mwhile\u001b[39;00m(temp1 \u001b[39mis\u001b[39;49;00m \u001b[39mnot\u001b[39;49;00m \u001b[39mNone\u001b[39;49;00m):\n\u001b[0;32m     <a href='vscode-notebook-cell:/c%3A/Users/1/Desktop/DataAnalysisPython/doubleLinkedLists.ipynb#X14sZmlsZQ%3D%3D?line=76'>77</a>\u001b[0m     temp2 \u001b[39m=\u001b[39m temp1\u001b[39m.\u001b[39mnext \n\u001b[0;32m     <a href='vscode-notebook-cell:/c%3A/Users/1/Desktop/DataAnalysisPython/doubleLinkedLists.ipynb#X14sZmlsZQ%3D%3D?line=78'>79</a>\u001b[0m     temp1\u001b[39m.\u001b[39mnext \u001b[39m=\u001b[39m temp1\u001b[39m.\u001b[39mprev\n",
      "\u001b[1;31mKeyboardInterrupt\u001b[0m: "
     ]
    }
   ],
   "source": [
    "doubleList.reverseList()\n",
    "doubleList.printFunc()"
   ]
  },
  {
   "cell_type": "code",
   "execution_count": null,
   "metadata": {},
   "outputs": [],
   "source": []
  }
 ],
 "metadata": {
  "kernelspec": {
   "display_name": "Python 3.10.5 ('venv': venv)",
   "language": "python",
   "name": "python3"
  },
  "language_info": {
   "codemirror_mode": {
    "name": "ipython",
    "version": 3
   },
   "file_extension": ".py",
   "mimetype": "text/x-python",
   "name": "python",
   "nbconvert_exporter": "python",
   "pygments_lexer": "ipython3",
   "version": "3.10.5"
  },
  "orig_nbformat": 4,
  "vscode": {
   "interpreter": {
    "hash": "f6b5d61940f171564e32d30ad206157c55202eb5d015d011f81b19957f702029"
   }
  }
 },
 "nbformat": 4,
 "nbformat_minor": 2
}
