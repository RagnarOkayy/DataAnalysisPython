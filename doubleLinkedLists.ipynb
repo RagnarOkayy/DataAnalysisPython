{
 "cells": [
  {
   "cell_type": "code",
   "execution_count": 1,
   "metadata": {},
   "outputs": [],
   "source": [
    "class Node:\n",
    "    def __init__(self, next = None, prev = None, data = None):\n",
    "        self.next = next \n",
    "        self.prev = prev \n",
    "        \n",
    "        self.data = data         "
   ]
  },
  {
   "cell_type": "code",
   "execution_count": 2,
   "metadata": {},
   "outputs": [],
   "source": [
    "class LinkedList:\n",
    "    def __init__(self):\n",
    "        self.head = None\n",
    "    \n",
    "    def printFunc(self):\n",
    "        temp = self.head\n",
    "        while(temp):\n",
    "            print(temp.data)\n",
    "            temp = temp.next\n",
    "            \n",
    "    def push(self, new_data):\n",
    "        new_node = Node(data=new_data)\n",
    "        \n",
    "        new_node.next = self.head\n",
    "        new_node.prev = None\n",
    "        \n",
    "        if (self.head is not None):\n",
    "            self.head.prev = new_node\n",
    "        \n",
    "        self.head = new_node\n",
    "        \n",
    "    def append(self, new_data):\n",
    "        new_node = Node(data= new_data)       \n",
    "        temp = self.head\n",
    "        \n",
    "        if self.head is None:\n",
    "            self.head = new_node\n",
    "            return \n",
    "        \n",
    "        \n",
    "        while(temp.next is not None):            \n",
    "            temp = temp.next \n",
    "        \n",
    "        temp.next = new_node\n",
    "        new_node.prev = temp\n",
    "        \n",
    "    def insertPrev(self, prev_node, new_data):\n",
    "        \n",
    "        if prev_node is None:\n",
    "            print(\"this node does not exist\")\n",
    "            return \n",
    "        \n",
    "        new_node = Node(data= new_data)\n",
    "        \n",
    "        new_node.prev = prev_node\n",
    "        new_node.next = prev_node.next\n",
    "        prev_node.next = new_node \n",
    "        \n",
    "    def insertNext(self, next_node, new_data):\n",
    "        \n",
    "        if next_node is None:\n",
    "            print(\"this node does not exist\")\n",
    "            return \n",
    "    \n",
    "        new_node = Node(data= new_data)\n",
    "        \n",
    "        new_node.next = next_node\n",
    "        new_node.prev = next_node.prev\n",
    "        next_node.prev = new_node\n",
    "        \n",
    "        \n",
    "        "
   ]
  },
  {
   "cell_type": "code",
   "execution_count": 3,
   "metadata": {},
   "outputs": [],
   "source": [
    "doubleList = LinkedList()"
   ]
  },
  {
   "cell_type": "code",
   "execution_count": 4,
   "metadata": {},
   "outputs": [],
   "source": [
    "doubleList.head = Node(data=1)"
   ]
  },
  {
   "cell_type": "code",
   "execution_count": 5,
   "metadata": {},
   "outputs": [],
   "source": [
    "second = Node(data=2)\n",
    "doubleList.head.next = second \n",
    "second.prev = doubleList.head"
   ]
  },
  {
   "cell_type": "code",
   "execution_count": 6,
   "metadata": {},
   "outputs": [],
   "source": [
    "third = Node(data=3)\n",
    "second.next = third\n",
    "third.prev = second "
   ]
  },
  {
   "cell_type": "code",
   "execution_count": 7,
   "metadata": {},
   "outputs": [
    {
     "name": "stdout",
     "output_type": "stream",
     "text": [
      "1\n",
      "2\n",
      "3\n"
     ]
    }
   ],
   "source": [
    "doubleList.printFunc()"
   ]
  },
  {
   "cell_type": "code",
   "execution_count": 8,
   "metadata": {},
   "outputs": [
    {
     "name": "stdout",
     "output_type": "stream",
     "text": [
      "0\n",
      "1\n",
      "2\n",
      "3\n"
     ]
    }
   ],
   "source": [
    "doubleList.push(new_data=0)\n",
    "doubleList.printFunc()"
   ]
  },
  {
   "cell_type": "code",
   "execution_count": 9,
   "metadata": {},
   "outputs": [
    {
     "name": "stdout",
     "output_type": "stream",
     "text": [
      "0\n",
      "1\n",
      "2\n",
      "3\n",
      "4\n"
     ]
    }
   ],
   "source": [
    "doubleList.append(new_data=4)\n",
    "doubleList.printFunc()"
   ]
  },
  {
   "cell_type": "code",
   "execution_count": 10,
   "metadata": {},
   "outputs": [
    {
     "name": "stdout",
     "output_type": "stream",
     "text": [
      "0\n",
      "1\n",
      "2\n",
      "4\n",
      "3\n",
      "4\n"
     ]
    }
   ],
   "source": [
    "doubleList.insertPrev(prev_node=second, new_data=4)\n",
    "doubleList.printFunc()"
   ]
  },
  {
   "cell_type": "code",
   "execution_count": 11,
   "metadata": {},
   "outputs": [
    {
     "name": "stdout",
     "output_type": "stream",
     "text": [
      "0\n",
      "1\n",
      "2\n",
      "10\n",
      "4\n",
      "3\n",
      "4\n"
     ]
    }
   ],
   "source": [
    "doubleList.insertPrev(prev_node=second, new_data=10)\n",
    "doubleList.printFunc()"
   ]
  }
 ],
 "metadata": {
  "kernelspec": {
   "display_name": "Python 3.10.5 ('venv': venv)",
   "language": "python",
   "name": "python3"
  },
  "language_info": {
   "codemirror_mode": {
    "name": "ipython",
    "version": 3
   },
   "file_extension": ".py",
   "mimetype": "text/x-python",
   "name": "python",
   "nbconvert_exporter": "python",
   "pygments_lexer": "ipython3",
   "version": "3.10.5"
  },
  "orig_nbformat": 4,
  "vscode": {
   "interpreter": {
    "hash": "f6b5d61940f171564e32d30ad206157c55202eb5d015d011f81b19957f702029"
   }
  }
 },
 "nbformat": 4,
 "nbformat_minor": 2
}
