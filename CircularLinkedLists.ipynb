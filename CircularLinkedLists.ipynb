{
 "cells": [
  {
   "cell_type": "code",
   "execution_count": 135,
   "metadata": {},
   "outputs": [],
   "source": [
    "class Node:\n",
    "    def __init__(self, data = None, next = None):\n",
    "        self.data = data \n",
    "        self.next = next"
   ]
  },
  {
   "cell_type": "code",
   "execution_count": 136,
   "metadata": {},
   "outputs": [],
   "source": [
    "class CircList:\n",
    "    def __init__(self):\n",
    "        self.last = None\n",
    "        \n",
    "    def printFunc(self):\n",
    "        \n",
    "        temp = self.last.next\n",
    "        \n",
    "        while(temp != self.last):\n",
    "            print(temp.data)\n",
    "            temp = temp.next\n",
    "        print(self.last.data)\n",
    "        \n",
    "    def addToEmpty(self, data):\n",
    "        if(self.last is not None):\n",
    "            return self.last\n",
    "        \n",
    "        temp = Node(data)\n",
    "        self.last = temp \n",
    "        self.last.next = self.last\n",
    "        return self.last\n",
    "    \n",
    "    def insertBeg(self, new_data):\n",
    "        \n",
    "        \n",
    "        if (self.last is None):\n",
    "            return self.addToEmpty(new_data)\n",
    "        \n",
    "        new_node = Node(data=new_data)\n",
    "        \n",
    "        new_node.next = self.last.next \n",
    "        self.last.next = new_node\n",
    "        \n",
    "    def insertLast(self, new_data):\n",
    "        \n",
    "        if (self.last is None):\n",
    "            return self.addToEmpty(new_data)\n",
    "        \n",
    "        new_node = Node(data= new_data)\n",
    "        new_node.next = self.last.next \n",
    "        self.last.next = new_node\n",
    "        self.last = new_node\n",
    "        \n",
    "        return self.last\n",
    "    \n",
    "    def insertAfterKey(self, new_data, key):\n",
    "        temp = self.last\n",
    "        while(temp.data != key):\n",
    "            if(temp.next == self.last):\n",
    "                return\n",
    "            temp = temp.next   \n",
    "        \n",
    "        new_node = Node(new_data)\n",
    "        \n",
    "        if temp == self.last:\n",
    "            self.last = new_node\n",
    "            \n",
    "        new_node.next = temp.next\n",
    "        temp.next = new_node\n",
    "        \n",
    "    def deleteLast(self):\n",
    "        \n",
    "        if self.last is None:\n",
    "            return print(\"There is nothing to delete\")\n",
    "        \n",
    "        temp = self.last\n",
    "        while(temp.next != self.last):\n",
    "            temp = temp.next\n",
    "        \n",
    "        temp.next = self.last.next \n",
    "        self.last = temp\n",
    "    \n",
    "    def deleteFirst(self):\n",
    "        if self.last is None:\n",
    "            return print(\"There is nothing to delete\")\n",
    "        \n",
    "        self.last.next = self.last.next.next\n",
    "    \n",
    "    def reverseList\n",
    "        "
   ]
  },
  {
   "cell_type": "code",
   "execution_count": 137,
   "metadata": {},
   "outputs": [],
   "source": [
    "circleList = CircList()"
   ]
  },
  {
   "cell_type": "code",
   "execution_count": 138,
   "metadata": {},
   "outputs": [],
   "source": [
    "first = Node(1)\n",
    "second = Node(2)\n",
    "third = Node(3)"
   ]
  },
  {
   "cell_type": "code",
   "execution_count": 139,
   "metadata": {},
   "outputs": [],
   "source": [
    "first.next = second\n",
    "second.next = third \n",
    "circleList.last = third \n",
    "third.next = first"
   ]
  },
  {
   "cell_type": "code",
   "execution_count": 140,
   "metadata": {},
   "outputs": [],
   "source": [
    "#circleList.addToEmpty(10)"
   ]
  },
  {
   "cell_type": "code",
   "execution_count": 141,
   "metadata": {},
   "outputs": [
    {
     "name": "stdout",
     "output_type": "stream",
     "text": [
      "1\n",
      "2\n",
      "3\n"
     ]
    }
   ],
   "source": [
    "circleList.printFunc()"
   ]
  },
  {
   "cell_type": "code",
   "execution_count": 142,
   "metadata": {},
   "outputs": [
    {
     "name": "stdout",
     "output_type": "stream",
     "text": [
      "0\n",
      "1\n",
      "2\n",
      "3\n"
     ]
    }
   ],
   "source": [
    "circleList.insertBeg(0)\n",
    "circleList.printFunc()"
   ]
  },
  {
   "cell_type": "code",
   "execution_count": 143,
   "metadata": {},
   "outputs": [
    {
     "name": "stdout",
     "output_type": "stream",
     "text": [
      "0\n",
      "1\n",
      "2\n",
      "3\n",
      "4\n"
     ]
    }
   ],
   "source": [
    "circleList.insertLast(4)\n",
    "circleList.printFunc()"
   ]
  },
  {
   "cell_type": "code",
   "execution_count": 144,
   "metadata": {},
   "outputs": [
    {
     "name": "stdout",
     "output_type": "stream",
     "text": [
      "0\n",
      "1\n",
      "2\n",
      "3\n",
      "4\n",
      "10\n"
     ]
    }
   ],
   "source": [
    "circleList.insertAfterKey(10,4)\n",
    "circleList.printFunc()"
   ]
  },
  {
   "cell_type": "code",
   "execution_count": 145,
   "metadata": {},
   "outputs": [
    {
     "name": "stdout",
     "output_type": "stream",
     "text": [
      "0\n",
      "1\n",
      "2\n",
      "3\n",
      "4\n",
      "10\n",
      "12\n"
     ]
    }
   ],
   "source": [
    "circleList.insertLast(12)\n",
    "circleList.printFunc()"
   ]
  },
  {
   "cell_type": "code",
   "execution_count": 146,
   "metadata": {},
   "outputs": [
    {
     "name": "stdout",
     "output_type": "stream",
     "text": [
      "0\n",
      "1\n",
      "10\n",
      "2\n",
      "3\n",
      "4\n",
      "10\n",
      "12\n"
     ]
    }
   ],
   "source": [
    "circleList.insertAfterKey(10,1)\n",
    "circleList.printFunc()"
   ]
  },
  {
   "cell_type": "code",
   "execution_count": 147,
   "metadata": {},
   "outputs": [
    {
     "name": "stdout",
     "output_type": "stream",
     "text": [
      "0\n",
      "1\n",
      "10\n",
      "2\n",
      "3\n",
      "4\n",
      "10\n"
     ]
    }
   ],
   "source": [
    "circleList.deleteLast()\n",
    "circleList.printFunc()"
   ]
  },
  {
   "cell_type": "code",
   "execution_count": 148,
   "metadata": {},
   "outputs": [
    {
     "name": "stdout",
     "output_type": "stream",
     "text": [
      "1\n",
      "10\n",
      "2\n",
      "3\n",
      "4\n",
      "10\n"
     ]
    }
   ],
   "source": [
    "circleList.deleteFirst()\n",
    "circleList.printFunc()"
   ]
  },
  {
   "cell_type": "code",
   "execution_count": null,
   "metadata": {},
   "outputs": [],
   "source": []
  }
 ],
 "metadata": {
  "kernelspec": {
   "display_name": "Python 3.10.5 ('venv': venv)",
   "language": "python",
   "name": "python3"
  },
  "language_info": {
   "codemirror_mode": {
    "name": "ipython",
    "version": 3
   },
   "file_extension": ".py",
   "mimetype": "text/x-python",
   "name": "python",
   "nbconvert_exporter": "python",
   "pygments_lexer": "ipython3",
   "version": "3.10.5"
  },
  "orig_nbformat": 4,
  "vscode": {
   "interpreter": {
    "hash": "f6b5d61940f171564e32d30ad206157c55202eb5d015d011f81b19957f702029"
   }
  }
 },
 "nbformat": 4,
 "nbformat_minor": 2
}
