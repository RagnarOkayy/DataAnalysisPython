{
 "cells": [
  {
   "cell_type": "code",
   "execution_count": 1,
   "metadata": {},
   "outputs": [
    {
     "ename": "SyntaxError",
     "evalue": "expected ':' (2619742084.py, line 99)",
     "output_type": "error",
     "traceback": [
      "\u001b[1;36m  Input \u001b[1;32mIn [1]\u001b[1;36m\u001b[0m\n\u001b[1;33m    def reverselist()\u001b[0m\n\u001b[1;37m                     ^\u001b[0m\n\u001b[1;31mSyntaxError\u001b[0m\u001b[1;31m:\u001b[0m expected ':'\n"
     ]
    }
   ],
   "source": [
    "class LinkedList:\n",
    "    def __init__(self):\n",
    "        self.head = None\n",
    "    \n",
    "    def printFunc(self):\n",
    "        temp = self.head\n",
    "        while(temp):\n",
    "            print(temp.data)\n",
    "            temp = temp.next\n",
    "            \n",
    "    def push(self, new_data):\n",
    "        new_node = Node(new_data)\n",
    "        new_node.next = self.head\n",
    "        self.head = new_node \n",
    "        \n",
    "    def append(self, new_data):\n",
    "        new_node = Node(new_data)\n",
    "        \n",
    "        if self.head is None:\n",
    "            self = new_node\n",
    "            return\n",
    "        \n",
    "        last = self.head\n",
    "        while(last.next):\n",
    "            last = last.next\n",
    "        last.next = new_node\n",
    "    \n",
    "    def insertAfter(self, prev_node, new_data):\n",
    "        \n",
    "        if prev_node is None:\n",
    "            print(\"this node does not exist\")\n",
    "            return \n",
    "\n",
    "        new_node = Node(new_data)\n",
    "        new_node.next = prev_node.next \n",
    "        prev_node.next = new_node\n",
    "    \n",
    "    def deleteFirst(self):\n",
    "        \n",
    "        if self.head is None:\n",
    "            print(\"There is no node to be deleted\")\n",
    "            return\n",
    "        \n",
    "        self.head = self.head.next\n",
    "    \n",
    "    def deleteLast(self):\n",
    "        last = self.head\n",
    "        \n",
    "        if self is None:\n",
    "            print('You cant delete a non existent node')\n",
    "            return\n",
    "        # We will get the node before the last one     \n",
    "        while(last.next.next):\n",
    "            last = last.next\n",
    "            \n",
    "        last.next = None   \n",
    "    \n",
    "    def deleteNode(self, key):\n",
    "        temp = self.head \n",
    "        \n",
    "        if (temp is not None):\n",
    "            if (temp.data == key):\n",
    "                self.head = temp.next\n",
    "                temp = None \n",
    "                \n",
    "        while (temp is not None):\n",
    "            if(temp.data == key):\n",
    "                break \n",
    "            prev = temp \n",
    "            temp = temp.next\n",
    "        \n",
    "        if (temp == None):\n",
    "            return \n",
    "        \n",
    "        prev.next = temp.next \n",
    "        temp = None\n",
    "        \n",
    "    def deleteNode(self, key):\n",
    "        temp = self.head \n",
    "        \n",
    "        if (temp is not None):\n",
    "            if(temp.data == key):\n",
    "                 self.head = temp.next\n",
    "                 temp = None \n",
    "                 return \n",
    "        \n",
    "        while (temp is not None):\n",
    "            if temp.data == key:\n",
    "                break \n",
    "            prev = temp\n",
    "            temp = temp.next\n",
    "        \n",
    "        if(temp == None):\n",
    "            return \n",
    "        \n",
    "        prev.next = temp.next\n",
    "        temp = None\n",
    "        \n",
    "    def reverselist(self):\n",
    "        while(self.head != None):\n",
    "            temp2 = self.head.next\n",
    "            self.head.next = temp \n",
    "            temp = self.head \n",
    "            self.head = temp2\n",
    "        head = temp"
   ]
  },
  {
   "cell_type": "code",
   "execution_count": 2,
   "metadata": {},
   "outputs": [],
   "source": [
    "class Node: \n",
    "    def __init__(self, data):\n",
    "        self.data = data\n",
    "        self.next = None\n",
    "        "
   ]
  },
  {
   "cell_type": "code",
   "execution_count": 3,
   "metadata": {},
   "outputs": [],
   "source": [
    "tempList = LinkedList()"
   ]
  },
  {
   "cell_type": "code",
   "execution_count": 4,
   "metadata": {},
   "outputs": [],
   "source": [
    "tempList.head = Node(1)\n",
    "second = Node(2)\n",
    "third = Node(3)"
   ]
  },
  {
   "cell_type": "code",
   "execution_count": 5,
   "metadata": {},
   "outputs": [],
   "source": [
    "tempList.head.next = second\n",
    "second.next = third "
   ]
  },
  {
   "cell_type": "code",
   "execution_count": 6,
   "metadata": {},
   "outputs": [
    {
     "name": "stdout",
     "output_type": "stream",
     "text": [
      "1\n",
      "2\n",
      "3\n"
     ]
    }
   ],
   "source": [
    "tempList.printFunc()"
   ]
  },
  {
   "cell_type": "code",
   "execution_count": 7,
   "metadata": {},
   "outputs": [],
   "source": [
    "tempList.push(4)"
   ]
  },
  {
   "cell_type": "code",
   "execution_count": 8,
   "metadata": {},
   "outputs": [
    {
     "name": "stdout",
     "output_type": "stream",
     "text": [
      "4\n",
      "1\n",
      "2\n",
      "3\n"
     ]
    }
   ],
   "source": [
    "tempList.printFunc()"
   ]
  },
  {
   "cell_type": "code",
   "execution_count": 9,
   "metadata": {},
   "outputs": [],
   "source": [
    "tempList.append(5)"
   ]
  },
  {
   "cell_type": "code",
   "execution_count": 10,
   "metadata": {},
   "outputs": [
    {
     "name": "stdout",
     "output_type": "stream",
     "text": [
      "4\n",
      "1\n",
      "2\n",
      "3\n",
      "5\n"
     ]
    }
   ],
   "source": [
    "tempList.printFunc()"
   ]
  },
  {
   "cell_type": "code",
   "execution_count": 11,
   "metadata": {},
   "outputs": [],
   "source": [
    "tempList.insertAfter(second, 7)"
   ]
  },
  {
   "cell_type": "code",
   "execution_count": 12,
   "metadata": {},
   "outputs": [
    {
     "name": "stdout",
     "output_type": "stream",
     "text": [
      "4\n",
      "1\n",
      "2\n",
      "7\n",
      "3\n",
      "5\n"
     ]
    }
   ],
   "source": [
    "tempList.printFunc()"
   ]
  },
  {
   "cell_type": "code",
   "execution_count": 13,
   "metadata": {},
   "outputs": [],
   "source": [
    "tempList.deleteFirst()"
   ]
  },
  {
   "cell_type": "code",
   "execution_count": 14,
   "metadata": {},
   "outputs": [
    {
     "name": "stdout",
     "output_type": "stream",
     "text": [
      "1\n",
      "2\n",
      "7\n",
      "3\n",
      "5\n"
     ]
    }
   ],
   "source": [
    "tempList.printFunc()"
   ]
  },
  {
   "cell_type": "code",
   "execution_count": 15,
   "metadata": {},
   "outputs": [
    {
     "name": "stdout",
     "output_type": "stream",
     "text": [
      "1\n",
      "2\n",
      "7\n",
      "3\n"
     ]
    }
   ],
   "source": [
    "tempList.deleteLast()\n",
    "tempList.printFunc()"
   ]
  },
  {
   "cell_type": "code",
   "execution_count": 16,
   "metadata": {},
   "outputs": [
    {
     "name": "stdout",
     "output_type": "stream",
     "text": [
      "1\n",
      "2\n",
      "3\n"
     ]
    }
   ],
   "source": [
    "tempList.deleteNode(7)\n",
    "tempList.printFunc()"
   ]
  },
  {
   "cell_type": "code",
   "execution_count": null,
   "metadata": {},
   "outputs": [],
   "source": []
  }
 ],
 "metadata": {
  "kernelspec": {
   "display_name": "Python 3.10.5 ('venv': venv)",
   "language": "python",
   "name": "python3"
  },
  "language_info": {
   "codemirror_mode": {
    "name": "ipython",
    "version": 3
   },
   "file_extension": ".py",
   "mimetype": "text/x-python",
   "name": "python",
   "nbconvert_exporter": "python",
   "pygments_lexer": "ipython3",
   "version": "3.10.5"
  },
  "orig_nbformat": 4,
  "vscode": {
   "interpreter": {
    "hash": "f6b5d61940f171564e32d30ad206157c55202eb5d015d011f81b19957f702029"
   }
  }
 },
 "nbformat": 4,
 "nbformat_minor": 2
}
