{
 "cells": [
  {
   "cell_type": "code",
   "execution_count": 112,
   "metadata": {},
   "outputs": [],
   "source": [
    "class LinkedList:\n",
    "    def __init__(self):\n",
    "        self.head = None\n",
    "    \n",
    "    def printFunc(self):\n",
    "        temp = self.head\n",
    "        while(temp):\n",
    "            print(temp.data)\n",
    "            temp = temp.next\n",
    "            \n",
    "    def push(self, new_data):\n",
    "        new_node = Node(new_data)\n",
    "        new_node.next = self.head\n",
    "        self.head = new_node \n",
    "        \n",
    "    def append(self, new_data):\n",
    "        new_node = Node(new_data)\n",
    "        \n",
    "        if self.head is None:\n",
    "            self = new_node\n",
    "            return\n",
    "        \n",
    "        last = self.head\n",
    "        while(last.next):\n",
    "            last = last.next\n",
    "        last.next = new_node\n",
    "    \n",
    "    def insertAfter(self, prev_node, new_data):\n",
    "        \n",
    "        if prev_node is None:\n",
    "            print(\"this node does not exist\")\n",
    "            return \n",
    "\n",
    "        new_node = Node(new_data)\n",
    "        new_node.next = prev_node.next \n",
    "        prev_node.next = new_node\n",
    "    \n",
    "    def deleteFirst(self):\n",
    "        \n",
    "        if self.head is None:\n",
    "            print(\"There is no node to be deleted\")\n",
    "            return\n",
    "        \n",
    "        self.head = self.head.next\n",
    "    \n",
    "    def deleteLast(self):\n",
    "        last = self.head\n",
    "        \n",
    "        if self is None:\n",
    "            print('You cant delete a non existent node')\n",
    "            return\n",
    "        # We will get the node before the last one     \n",
    "        while(last.next.next):\n",
    "            last = last.next\n",
    "            \n",
    "        last.next = None   \n",
    "    \n",
    "    def deleteNode(self, key):\n",
    "        temp = self.head \n",
    "        \n",
    "        if (temp is not None):\n",
    "            if (temp.data == key):\n",
    "                self.head = temp.next\n",
    "                temp = None \n",
    "                \n",
    "        while (temp is not None):\n",
    "            if(temp.data == key):\n",
    "                break \n",
    "            prev = temp \n",
    "            temp = temp.next\n",
    "        \n",
    "        if (temp == None):\n",
    "            return \n",
    "        \n",
    "        prev.next = temp.next \n",
    "        temp = None\n",
    "        \n",
    "    def deleteNode(self, key):\n",
    "        temp = self.head \n",
    "        \n",
    "        if (temp is not None):\n",
    "            if(temp.data == key):\n",
    "                 self.head = temp.next\n",
    "                 temp = None \n",
    "                 return \n",
    "        \n",
    "        while (temp is not None):\n",
    "            if temp.data == key:\n",
    "                break \n",
    "            prev = temp\n",
    "            temp = temp.next\n",
    "        \n",
    "        if(temp == None):\n",
    "            return \n",
    "        \n",
    "        prev.next = temp.next\n",
    "        temp = None\n",
    "        \n",
    "    def reverse(self, head):\n",
    "        \n",
    "        if head is None or head.next is None:\n",
    "            return head \n",
    "        rest = self.reverse(head.next)\n",
    "        \n",
    "        head.next.next = head\n",
    "        head.next = None\n",
    "        \n",
    "        return rest\n",
    "        \n",
    "        "
   ]
  },
  {
   "cell_type": "code",
   "execution_count": 113,
   "metadata": {},
   "outputs": [],
   "source": [
    "class Node: \n",
    "    def __init__(self, data):\n",
    "        self.data = data\n",
    "        self.next = None\n",
    "        "
   ]
  },
  {
   "cell_type": "code",
   "execution_count": 114,
   "metadata": {},
   "outputs": [],
   "source": [
    "tempList = LinkedList()"
   ]
  },
  {
   "cell_type": "code",
   "execution_count": 115,
   "metadata": {},
   "outputs": [],
   "source": [
    "tempList.head = Node(1)\n",
    "second = Node(2)\n",
    "third = Node(3)"
   ]
  },
  {
   "cell_type": "code",
   "execution_count": 116,
   "metadata": {},
   "outputs": [],
   "source": [
    "tempList.head.next = second\n",
    "second.next = third "
   ]
  },
  {
   "cell_type": "code",
   "execution_count": 117,
   "metadata": {},
   "outputs": [
    {
     "name": "stdout",
     "output_type": "stream",
     "text": [
      "1\n",
      "2\n",
      "3\n"
     ]
    }
   ],
   "source": [
    "tempList.printFunc()"
   ]
  },
  {
   "cell_type": "code",
   "execution_count": 118,
   "metadata": {},
   "outputs": [],
   "source": [
    "tempList.push(4)"
   ]
  },
  {
   "cell_type": "code",
   "execution_count": 119,
   "metadata": {},
   "outputs": [
    {
     "name": "stdout",
     "output_type": "stream",
     "text": [
      "4\n",
      "1\n",
      "2\n",
      "3\n"
     ]
    }
   ],
   "source": [
    "tempList.printFunc()"
   ]
  },
  {
   "cell_type": "code",
   "execution_count": 120,
   "metadata": {},
   "outputs": [],
   "source": [
    "tempList.append(5)"
   ]
  },
  {
   "cell_type": "code",
   "execution_count": 121,
   "metadata": {},
   "outputs": [
    {
     "name": "stdout",
     "output_type": "stream",
     "text": [
      "4\n",
      "1\n",
      "2\n",
      "3\n",
      "5\n"
     ]
    }
   ],
   "source": [
    "tempList.printFunc()"
   ]
  },
  {
   "cell_type": "code",
   "execution_count": 122,
   "metadata": {},
   "outputs": [],
   "source": [
    "tempList.insertAfter(second, 7)"
   ]
  },
  {
   "cell_type": "code",
   "execution_count": 123,
   "metadata": {},
   "outputs": [
    {
     "name": "stdout",
     "output_type": "stream",
     "text": [
      "4\n",
      "1\n",
      "2\n",
      "7\n",
      "3\n",
      "5\n"
     ]
    }
   ],
   "source": [
    "tempList.printFunc()"
   ]
  },
  {
   "cell_type": "code",
   "execution_count": 124,
   "metadata": {},
   "outputs": [],
   "source": [
    "tempList.deleteFirst()"
   ]
  },
  {
   "cell_type": "code",
   "execution_count": 125,
   "metadata": {},
   "outputs": [
    {
     "name": "stdout",
     "output_type": "stream",
     "text": [
      "1\n",
      "2\n",
      "7\n",
      "3\n",
      "5\n"
     ]
    }
   ],
   "source": [
    "tempList.printFunc()"
   ]
  },
  {
   "cell_type": "code",
   "execution_count": 126,
   "metadata": {},
   "outputs": [
    {
     "name": "stdout",
     "output_type": "stream",
     "text": [
      "1\n",
      "2\n",
      "7\n",
      "3\n"
     ]
    }
   ],
   "source": [
    "tempList.deleteLast()\n",
    "tempList.printFunc()"
   ]
  },
  {
   "cell_type": "code",
   "execution_count": 127,
   "metadata": {},
   "outputs": [
    {
     "name": "stdout",
     "output_type": "stream",
     "text": [
      "1\n",
      "2\n",
      "3\n"
     ]
    }
   ],
   "source": [
    "tempList.deleteNode(7)\n",
    "tempList.printFunc()"
   ]
  },
  {
   "cell_type": "code",
   "execution_count": 130,
   "metadata": {},
   "outputs": [
    {
     "data": {
      "text/plain": [
       "<__main__.Node at 0x2064f14d960>"
      ]
     },
     "execution_count": 130,
     "metadata": {},
     "output_type": "execute_result"
    }
   ],
   "source": [
    "tempList.reverse(second)"
   ]
  },
  {
   "cell_type": "code",
   "execution_count": 131,
   "metadata": {},
   "outputs": [
    {
     "name": "stdout",
     "output_type": "stream",
     "text": [
      "1\n",
      "2\n"
     ]
    }
   ],
   "source": [
    "tempList.printFunc()"
   ]
  },
  {
   "cell_type": "code",
   "execution_count": null,
   "metadata": {},
   "outputs": [],
   "source": []
  }
 ],
 "metadata": {
  "kernelspec": {
   "display_name": "Python 3.10.5 ('venv': venv)",
   "language": "python",
   "name": "python3"
  },
  "language_info": {
   "codemirror_mode": {
    "name": "ipython",
    "version": 3
   },
   "file_extension": ".py",
   "mimetype": "text/x-python",
   "name": "python",
   "nbconvert_exporter": "python",
   "pygments_lexer": "ipython3",
   "version": "3.10.5"
  },
  "orig_nbformat": 4,
  "vscode": {
   "interpreter": {
    "hash": "f6b5d61940f171564e32d30ad206157c55202eb5d015d011f81b19957f702029"
   }
  }
 },
 "nbformat": 4,
 "nbformat_minor": 2
}
